{
 "cells": [
  {
   "cell_type": "code",
   "execution_count": null,
   "metadata": {},
   "outputs": [],
   "source": [
    "import re\n",
    "import unicodedata\n",
    "\n",
    "from linggapy.utils import Loader\n",
    "import pandas as pd\n",
    "import requests"
   ]
  },
  {
   "cell_type": "code",
   "execution_count": 186,
   "metadata": {},
   "outputs": [
    {
     "data": {
      "text/plain": [
       "42194"
      ]
     },
     "execution_count": 186,
     "metadata": {},
     "output_type": "execute_result"
    }
   ],
   "source": [
    "balinese_words = Loader().load_words()\n",
    "len(balinese_words)"
   ]
  },
  {
   "cell_type": "code",
   "execution_count": null,
   "metadata": {},
   "outputs": [],
   "source": [
    "response = requests.get(\n",
    "    \"https://raw.githubusercontent.com/Wikidepia/indonesian_datasets/master/dictionary/wordlist/data/wordlist.txt\"\n",
    ").text\n",
    "indonesian_words = set(response.split())"
   ]
  },
  {
   "cell_type": "code",
   "execution_count": 143,
   "metadata": {},
   "outputs": [
    {
     "data": {
      "text/plain": [
       "74891"
      ]
     },
     "execution_count": 143,
     "metadata": {},
     "output_type": "execute_result"
    }
   ],
   "source": [
    "len(indonesian_words)"
   ]
  },
  {
   "cell_type": "code",
   "execution_count": 144,
   "metadata": {},
   "outputs": [],
   "source": [
    "df = pd.read_json(\"instagram.json\")\n",
    "df = df[[\"data\"]]"
   ]
  },
  {
   "cell_type": "code",
   "execution_count": 145,
   "metadata": {},
   "outputs": [],
   "source": [
    "all_texts = []\n",
    "for item in df['data']:\n",
    "    all_texts.append(item['caption'])\n",
    "    all_texts.extend(item['comments'])\n",
    "\n",
    "df_texts = pd.DataFrame({'text': all_texts}).reset_index(drop=True)"
   ]
  },
  {
   "cell_type": "code",
   "execution_count": 146,
   "metadata": {},
   "outputs": [
    {
     "data": {
      "text/html": [
       "<div>\n",
       "<style scoped>\n",
       "    .dataframe tbody tr th:only-of-type {\n",
       "        vertical-align: middle;\n",
       "    }\n",
       "\n",
       "    .dataframe tbody tr th {\n",
       "        vertical-align: top;\n",
       "    }\n",
       "\n",
       "    .dataframe thead th {\n",
       "        text-align: right;\n",
       "    }\n",
       "</style>\n",
       "<table border=\"1\" class=\"dataframe\">\n",
       "  <thead>\n",
       "    <tr style=\"text-align: right;\">\n",
       "      <th></th>\n",
       "      <th>text</th>\n",
       "    </tr>\n",
       "  </thead>\n",
       "  <tbody>\n",
       "    <tr>\n",
       "      <th>0</th>\n",
       "      <td>#bahasabali #basabali #basabaline #belajarbaha...</td>\n",
       "    </tr>\n",
       "    <tr>\n",
       "      <th>1</th>\n",
       "      <td>Sukseme , tiang melajah mebase bali</td>\n",
       "    </tr>\n",
       "    <tr>\n",
       "      <th>2</th>\n",
       "      <td>@petuah_petuah Ngiring sareng-sareng malajah 🙏</td>\n",
       "    </tr>\n",
       "    <tr>\n",
       "      <th>3</th>\n",
       "      <td>@basabali.id sawire timpal timpal dini uli  Bali🙏</td>\n",
       "    </tr>\n",
       "    <tr>\n",
       "      <th>4</th>\n",
       "      <td>Anadap &amp; alus lebih sopan mana min?</td>\n",
       "    </tr>\n",
       "    <tr>\n",
       "      <th>...</th>\n",
       "      <td>...</td>\n",
       "    </tr>\n",
       "    <tr>\n",
       "      <th>18219</th>\n",
       "      <td>Ade ne kene? Nawang lagune tuah abesik ne pali...</td>\n",
       "    </tr>\n",
       "    <tr>\n",
       "      <th>18220</th>\n",
       "      <td>❤😊🙏!!!</td>\n",
       "    </tr>\n",
       "    <tr>\n",
       "      <th>18221</th>\n",
       "      <td>Hahahah nice post</td>\n",
       "    </tr>\n",
       "    <tr>\n",
       "      <th>18222</th>\n",
       "      <td>Jayanti ring angga semeton dewata! Suksma Bali...</td>\n",
       "    </tr>\n",
       "    <tr>\n",
       "      <th>18223</th>\n",
       "      <td>Tinggal di Bali tapi belum bisa bahasa Bali? N...</td>\n",
       "    </tr>\n",
       "  </tbody>\n",
       "</table>\n",
       "<p>18224 rows × 1 columns</p>\n",
       "</div>"
      ],
      "text/plain": [
       "                                                    text\n",
       "0      #bahasabali #basabali #basabaline #belajarbaha...\n",
       "1                    Sukseme , tiang melajah mebase bali\n",
       "2         @petuah_petuah Ngiring sareng-sareng malajah 🙏\n",
       "3      @basabali.id sawire timpal timpal dini uli  Bali🙏\n",
       "4                    Anadap & alus lebih sopan mana min?\n",
       "...                                                  ...\n",
       "18219  Ade ne kene? Nawang lagune tuah abesik ne pali...\n",
       "18220                                             ❤😊🙏!!!\n",
       "18221                                  Hahahah nice post\n",
       "18222  Jayanti ring angga semeton dewata! Suksma Bali...\n",
       "18223  Tinggal di Bali tapi belum bisa bahasa Bali? N...\n",
       "\n",
       "[18224 rows x 1 columns]"
      ]
     },
     "execution_count": 146,
     "metadata": {},
     "output_type": "execute_result"
    }
   ],
   "source": [
    "df_texts"
   ]
  },
  {
   "cell_type": "code",
   "execution_count": 170,
   "metadata": {},
   "outputs": [],
   "source": [
    "def clean_text(text: str) -> str:\n",
    "    text = text.lower()\n",
    "    # remove emoji/unicode\n",
    "    text = unicodedata.normalize(\"NFKD\", text).encode(\"ASCII\", \"ignore\").decode(\"utf-8\")\n",
    "    # keep only @ and #\n",
    "    text = re.sub(r\"[^\\w\\s@#]\", \" \", text)\n",
    "    # remove multiple spaces\n",
    "    text = re.sub(r\"\\s+\", \" \", text).strip()\n",
    "    # remove tag and hashtag\n",
    "    for word in text.split():\n",
    "        if word.startswith(\"@\") or word.startswith(\"#\"):\n",
    "            text = text.replace(word, \"\")\n",
    "    # remove non alphabetic\n",
    "    text = re.sub(r\"[^a-zA-Z]\", \" \", text)\n",
    "    # remove multiple spaces\n",
    "    text = re.sub(r\"\\s+\", \" \", text).strip()\n",
    "    return text"
   ]
  },
  {
   "cell_type": "code",
   "execution_count": 171,
   "metadata": {},
   "outputs": [],
   "source": [
    "def is_dominant_balinese(text: str, threshold: float = 0.5) -> bool:\n",
    "    if text is None:\n",
    "        return False\n",
    "\n",
    "    text = clean_text(text)\n",
    "    words = text.split()\n",
    "    if not words:\n",
    "        return False\n",
    "\n",
    "    balinese_count = sum(1 for word in words if word in balinese_words)\n",
    "    indonesian_count = sum(1 for word in words if word in indonesian_words)\n",
    "\n",
    "    is_dominant = False\n",
    "    # if balinese is more than threshold\n",
    "    # and indonesian is less than 1 - threshold\n",
    "    if (balinese_count / len(words) > threshold) and (\n",
    "        indonesian_count / len(words) < 1 - threshold\n",
    "    ):\n",
    "        is_dominant = True\n",
    "    return is_dominant"
   ]
  },
  {
   "cell_type": "code",
   "execution_count": 172,
   "metadata": {},
   "outputs": [],
   "source": [
    "# dominant balinese\n",
    "df_filtered = df_texts[df_texts['text'].apply(is_dominant_balinese)].reset_index(drop=True)"
   ]
  },
  {
   "cell_type": "code",
   "execution_count": 173,
   "metadata": {},
   "outputs": [
    {
     "data": {
      "text/html": [
       "<div>\n",
       "<style scoped>\n",
       "    .dataframe tbody tr th:only-of-type {\n",
       "        vertical-align: middle;\n",
       "    }\n",
       "\n",
       "    .dataframe tbody tr th {\n",
       "        vertical-align: top;\n",
       "    }\n",
       "\n",
       "    .dataframe thead th {\n",
       "        text-align: right;\n",
       "    }\n",
       "</style>\n",
       "<table border=\"1\" class=\"dataframe\">\n",
       "  <thead>\n",
       "    <tr style=\"text-align: right;\">\n",
       "      <th></th>\n",
       "      <th>text</th>\n",
       "    </tr>\n",
       "  </thead>\n",
       "  <tbody>\n",
       "    <tr>\n",
       "      <th>0</th>\n",
       "      <td>@petuah_petuah Ngiring sareng-sareng malajah 🙏</td>\n",
       "    </tr>\n",
       "    <tr>\n",
       "      <th>1</th>\n",
       "      <td>@trioe_f  nginem</td>\n",
       "    </tr>\n",
       "    <tr>\n",
       "      <th>2</th>\n",
       "      <td>@erhasonwafa22 wareg</td>\n",
       "    </tr>\n",
       "    <tr>\n",
       "      <th>3</th>\n",
       "      <td>@gnyrs Kalau kantor Gubernurnya mimin nenten t...</td>\n",
       "    </tr>\n",
       "    <tr>\n",
       "      <th>4</th>\n",
       "      <td>lue apa lue?</td>\n",
       "    </tr>\n",
       "    <tr>\n",
       "      <th>...</th>\n",
       "      <td>...</td>\n",
       "    </tr>\n",
       "    <tr>\n",
       "      <th>2785</th>\n",
       "      <td>Ngiring mlajah angka Bali, durusang ketik jawa...</td>\n",
       "    </tr>\n",
       "    <tr>\n",
       "      <th>2786</th>\n",
       "      <td>Becik pisan Baligrafi puniki 😍😍\\n#Repost @rai_...</td>\n",
       "    </tr>\n",
       "    <tr>\n",
       "      <th>2787</th>\n",
       "      <td>#Repost @mlajahbasabali\\n• • • • • •\\nNgiring ...</td>\n",
       "    </tr>\n",
       "    <tr>\n",
       "      <th>2788</th>\n",
       "      <td>#Repost @balilango\\n• • • • • •\\nRahajeng rahi...</td>\n",
       "    </tr>\n",
       "    <tr>\n",
       "      <th>2789</th>\n",
       "      <td>Ngiring Malajah Aksara Bali\\n\\n#Repost @penyul...</td>\n",
       "    </tr>\n",
       "  </tbody>\n",
       "</table>\n",
       "<p>2790 rows × 1 columns</p>\n",
       "</div>"
      ],
      "text/plain": [
       "                                                   text\n",
       "0        @petuah_petuah Ngiring sareng-sareng malajah 🙏\n",
       "1                                      @trioe_f  nginem\n",
       "2                                  @erhasonwafa22 wareg\n",
       "3     @gnyrs Kalau kantor Gubernurnya mimin nenten t...\n",
       "4                                          lue apa lue?\n",
       "...                                                 ...\n",
       "2785  Ngiring mlajah angka Bali, durusang ketik jawa...\n",
       "2786  Becik pisan Baligrafi puniki 😍😍\\n#Repost @rai_...\n",
       "2787  #Repost @mlajahbasabali\\n• • • • • •\\nNgiring ...\n",
       "2788  #Repost @balilango\\n• • • • • •\\nRahajeng rahi...\n",
       "2789  Ngiring Malajah Aksara Bali\\n\\n#Repost @penyul...\n",
       "\n",
       "[2790 rows x 1 columns]"
      ]
     },
     "execution_count": 173,
     "metadata": {},
     "output_type": "execute_result"
    }
   ],
   "source": [
    "df_filtered"
   ]
  },
  {
   "cell_type": "code",
   "execution_count": 174,
   "metadata": {},
   "outputs": [],
   "source": [
    "def filter_length_word(text: str, length: int = 5) -> bool:\n",
    "    if text is None:\n",
    "        return False\n",
    "    text = clean_text(text)\n",
    "    words = text.split()\n",
    "    if not words:\n",
    "        return False\n",
    "    return len(words) >= length"
   ]
  },
  {
   "cell_type": "code",
   "execution_count": 177,
   "metadata": {},
   "outputs": [],
   "source": [
    "df_filtered = df_filtered[df_filtered['text'].apply(filter_length_word)].reset_index(drop=True)"
   ]
  },
  {
   "cell_type": "code",
   "execution_count": 178,
   "metadata": {},
   "outputs": [
    {
     "data": {
      "text/html": [
       "<div>\n",
       "<style scoped>\n",
       "    .dataframe tbody tr th:only-of-type {\n",
       "        vertical-align: middle;\n",
       "    }\n",
       "\n",
       "    .dataframe tbody tr th {\n",
       "        vertical-align: top;\n",
       "    }\n",
       "\n",
       "    .dataframe thead th {\n",
       "        text-align: right;\n",
       "    }\n",
       "</style>\n",
       "<table border=\"1\" class=\"dataframe\">\n",
       "  <thead>\n",
       "    <tr style=\"text-align: right;\">\n",
       "      <th></th>\n",
       "      <th>text</th>\n",
       "    </tr>\n",
       "  </thead>\n",
       "  <tbody>\n",
       "    <tr>\n",
       "      <th>0</th>\n",
       "      <td>@gnyrs Kalau kantor Gubernurnya mimin nenten t...</td>\n",
       "    </tr>\n",
       "    <tr>\n",
       "      <th>1</th>\n",
       "      <td>@mangabdiii munyi gen wi besik ne</td>\n",
       "    </tr>\n",
       "    <tr>\n",
       "      <th>2</th>\n",
       "      <td>Yen di desan nyama patuh masih nyambat \"pang j...</td>\n",
       "    </tr>\n",
       "    <tr>\n",
       "      <th>3</th>\n",
       "      <td>@mangpink84 Nggih pateh taler nganggen ra repa 🙏</td>\n",
       "    </tr>\n",
       "    <tr>\n",
       "      <th>4</th>\n",
       "      <td>Om swastiastu, nyama sareng sami 🙏🏻\\nKenken ka...</td>\n",
       "    </tr>\n",
       "    <tr>\n",
       "      <th>...</th>\n",
       "      <td>...</td>\n",
       "    </tr>\n",
       "    <tr>\n",
       "      <th>1405</th>\n",
       "      <td>Buatin kakak nama komang dimas merta sedana</td>\n",
       "    </tr>\n",
       "    <tr>\n",
       "      <th>1406</th>\n",
       "      <td>Ngiring mlajah angka Bali, durusang ketik jawa...</td>\n",
       "    </tr>\n",
       "    <tr>\n",
       "      <th>1407</th>\n",
       "      <td>Becik pisan Baligrafi puniki 😍😍\\n#Repost @rai_...</td>\n",
       "    </tr>\n",
       "    <tr>\n",
       "      <th>1408</th>\n",
       "      <td>#Repost @mlajahbasabali\\n• • • • • •\\nNgiring ...</td>\n",
       "    </tr>\n",
       "    <tr>\n",
       "      <th>1409</th>\n",
       "      <td>Ngiring Malajah Aksara Bali\\n\\n#Repost @penyul...</td>\n",
       "    </tr>\n",
       "  </tbody>\n",
       "</table>\n",
       "<p>1410 rows × 1 columns</p>\n",
       "</div>"
      ],
      "text/plain": [
       "                                                   text\n",
       "0     @gnyrs Kalau kantor Gubernurnya mimin nenten t...\n",
       "1                     @mangabdiii munyi gen wi besik ne\n",
       "2     Yen di desan nyama patuh masih nyambat \"pang j...\n",
       "3      @mangpink84 Nggih pateh taler nganggen ra repa 🙏\n",
       "4     Om swastiastu, nyama sareng sami 🙏🏻\\nKenken ka...\n",
       "...                                                 ...\n",
       "1405        Buatin kakak nama komang dimas merta sedana\n",
       "1406  Ngiring mlajah angka Bali, durusang ketik jawa...\n",
       "1407  Becik pisan Baligrafi puniki 😍😍\\n#Repost @rai_...\n",
       "1408  #Repost @mlajahbasabali\\n• • • • • •\\nNgiring ...\n",
       "1409  Ngiring Malajah Aksara Bali\\n\\n#Repost @penyul...\n",
       "\n",
       "[1410 rows x 1 columns]"
      ]
     },
     "execution_count": 178,
     "metadata": {},
     "output_type": "execute_result"
    }
   ],
   "source": [
    "df_filtered"
   ]
  },
  {
   "cell_type": "code",
   "execution_count": 182,
   "metadata": {},
   "outputs": [],
   "source": [
    "df_filtered[\"cleaned_text\"] = df_filtered[\"text\"].apply(clean_text)\n",
    "df_filtered = df_filtered.drop_duplicates(subset=['cleaned_text']).reset_index(drop=True)"
   ]
  },
  {
   "cell_type": "code",
   "execution_count": 183,
   "metadata": {},
   "outputs": [
    {
     "data": {
      "text/html": [
       "<div>\n",
       "<style scoped>\n",
       "    .dataframe tbody tr th:only-of-type {\n",
       "        vertical-align: middle;\n",
       "    }\n",
       "\n",
       "    .dataframe tbody tr th {\n",
       "        vertical-align: top;\n",
       "    }\n",
       "\n",
       "    .dataframe thead th {\n",
       "        text-align: right;\n",
       "    }\n",
       "</style>\n",
       "<table border=\"1\" class=\"dataframe\">\n",
       "  <thead>\n",
       "    <tr style=\"text-align: right;\">\n",
       "      <th></th>\n",
       "      <th>text</th>\n",
       "      <th>cleaned_text</th>\n",
       "    </tr>\n",
       "  </thead>\n",
       "  <tbody>\n",
       "    <tr>\n",
       "      <th>0</th>\n",
       "      <td>@gnyrs Kalau kantor Gubernurnya mimin nenten t...</td>\n",
       "      <td>kalau kantor gubernurnya mimin nenten tatas un...</td>\n",
       "    </tr>\n",
       "    <tr>\n",
       "      <th>1</th>\n",
       "      <td>@mangabdiii munyi gen wi besik ne</td>\n",
       "      <td>munyi gen wi besik ne</td>\n",
       "    </tr>\n",
       "    <tr>\n",
       "      <th>2</th>\n",
       "      <td>Yen di desan nyama patuh masih nyambat \"pang j...</td>\n",
       "      <td>yen di desan nyama patuh masih nyambat pang jo...</td>\n",
       "    </tr>\n",
       "    <tr>\n",
       "      <th>3</th>\n",
       "      <td>@mangpink84 Nggih pateh taler nganggen ra repa 🙏</td>\n",
       "      <td>nggih pateh taler nganggen ra repa</td>\n",
       "    </tr>\n",
       "    <tr>\n",
       "      <th>4</th>\n",
       "      <td>Om swastiastu, nyama sareng sami 🙏🏻\\nKenken ka...</td>\n",
       "      <td>om swastiastu nyama sareng sami kenken kabare ...</td>\n",
       "    </tr>\n",
       "    <tr>\n",
       "      <th>...</th>\n",
       "      <td>...</td>\n",
       "      <td>...</td>\n",
       "    </tr>\n",
       "    <tr>\n",
       "      <th>1345</th>\n",
       "      <td>Buatin kakak nama komang dimas merta sedana</td>\n",
       "      <td>buatin kakak nama komang dimas merta sedana</td>\n",
       "    </tr>\n",
       "    <tr>\n",
       "      <th>1346</th>\n",
       "      <td>Ngiring mlajah angka Bali, durusang ketik jawa...</td>\n",
       "      <td>ngiring mlajah angka bali durusang ketik jawab...</td>\n",
       "    </tr>\n",
       "    <tr>\n",
       "      <th>1347</th>\n",
       "      <td>Becik pisan Baligrafi puniki 😍😍\\n#Repost @rai_...</td>\n",
       "      <td>becik pisan baligrafi puniki baligrafi singa raja</td>\n",
       "    </tr>\n",
       "    <tr>\n",
       "      <th>1348</th>\n",
       "      <td>#Repost @mlajahbasabali\\n• • • • • •\\nNgiring ...</td>\n",
       "      <td>ngiring malajah aksara bali repost fb made</td>\n",
       "    </tr>\n",
       "    <tr>\n",
       "      <th>1349</th>\n",
       "      <td>Ngiring Malajah Aksara Bali\\n\\n#Repost @penyul...</td>\n",
       "      <td>ngiring malajah aksara bali ngiring sareng sar...</td>\n",
       "    </tr>\n",
       "  </tbody>\n",
       "</table>\n",
       "<p>1350 rows × 2 columns</p>\n",
       "</div>"
      ],
      "text/plain": [
       "                                                   text  \\\n",
       "0     @gnyrs Kalau kantor Gubernurnya mimin nenten t...   \n",
       "1                     @mangabdiii munyi gen wi besik ne   \n",
       "2     Yen di desan nyama patuh masih nyambat \"pang j...   \n",
       "3      @mangpink84 Nggih pateh taler nganggen ra repa 🙏   \n",
       "4     Om swastiastu, nyama sareng sami 🙏🏻\\nKenken ka...   \n",
       "...                                                 ...   \n",
       "1345        Buatin kakak nama komang dimas merta sedana   \n",
       "1346  Ngiring mlajah angka Bali, durusang ketik jawa...   \n",
       "1347  Becik pisan Baligrafi puniki 😍😍\\n#Repost @rai_...   \n",
       "1348  #Repost @mlajahbasabali\\n• • • • • •\\nNgiring ...   \n",
       "1349  Ngiring Malajah Aksara Bali\\n\\n#Repost @penyul...   \n",
       "\n",
       "                                           cleaned_text  \n",
       "0     kalau kantor gubernurnya mimin nenten tatas un...  \n",
       "1                                 munyi gen wi besik ne  \n",
       "2     yen di desan nyama patuh masih nyambat pang jo...  \n",
       "3                    nggih pateh taler nganggen ra repa  \n",
       "4     om swastiastu nyama sareng sami kenken kabare ...  \n",
       "...                                                 ...  \n",
       "1345        buatin kakak nama komang dimas merta sedana  \n",
       "1346  ngiring mlajah angka bali durusang ketik jawab...  \n",
       "1347  becik pisan baligrafi puniki baligrafi singa raja  \n",
       "1348         ngiring malajah aksara bali repost fb made  \n",
       "1349  ngiring malajah aksara bali ngiring sareng sar...  \n",
       "\n",
       "[1350 rows x 2 columns]"
      ]
     },
     "execution_count": 183,
     "metadata": {},
     "output_type": "execute_result"
    }
   ],
   "source": [
    "df_filtered"
   ]
  },
  {
   "cell_type": "code",
   "execution_count": 184,
   "metadata": {},
   "outputs": [],
   "source": [
    "df_filtered = df_filtered.drop(columns=['cleaned_text'])"
   ]
  },
  {
   "cell_type": "code",
   "execution_count": 185,
   "metadata": {},
   "outputs": [],
   "source": [
    "df_filtered.to_excel(\"dataset.xlsx\", index=False)"
   ]
  }
 ],
 "metadata": {
  "kernelspec": {
   "display_name": ".venv",
   "language": "python",
   "name": "python3"
  },
  "language_info": {
   "codemirror_mode": {
    "name": "ipython",
    "version": 3
   },
   "file_extension": ".py",
   "mimetype": "text/x-python",
   "name": "python",
   "nbconvert_exporter": "python",
   "pygments_lexer": "ipython3",
   "version": "3.12.6"
  }
 },
 "nbformat": 4,
 "nbformat_minor": 2
}
