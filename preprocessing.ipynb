{
 "cells": [
  {
   "cell_type": "code",
   "execution_count": 1,
   "metadata": {},
   "outputs": [],
   "source": [
    "from linggapy.utils import Loader\n",
    "import pandas as pd"
   ]
  },
  {
   "cell_type": "code",
   "execution_count": 2,
   "metadata": {},
   "outputs": [],
   "source": [
    "balinese_words = Loader().load_words()"
   ]
  },
  {
   "cell_type": "code",
   "execution_count": 3,
   "metadata": {},
   "outputs": [],
   "source": [
    "df = pd.read_json(\"instagram.json\")"
   ]
  },
  {
   "cell_type": "code",
   "execution_count": 4,
   "metadata": {},
   "outputs": [],
   "source": [
    "df = df[[\"data\"]]"
   ]
  },
  {
   "cell_type": "code",
   "execution_count": 5,
   "metadata": {},
   "outputs": [],
   "source": [
    "all_texts = []\n",
    "for item in df['data']:\n",
    "    all_texts.append(item['caption'])\n",
    "    all_texts.extend(item['comments'])\n",
    "\n",
    "df_texts = pd.DataFrame({'text': all_texts}).reset_index(drop=True)"
   ]
  },
  {
   "cell_type": "code",
   "execution_count": 6,
   "metadata": {},
   "outputs": [
    {
     "data": {
      "text/html": [
       "<div>\n",
       "<style scoped>\n",
       "    .dataframe tbody tr th:only-of-type {\n",
       "        vertical-align: middle;\n",
       "    }\n",
       "\n",
       "    .dataframe tbody tr th {\n",
       "        vertical-align: top;\n",
       "    }\n",
       "\n",
       "    .dataframe thead th {\n",
       "        text-align: right;\n",
       "    }\n",
       "</style>\n",
       "<table border=\"1\" class=\"dataframe\">\n",
       "  <thead>\n",
       "    <tr style=\"text-align: right;\">\n",
       "      <th></th>\n",
       "      <th>text</th>\n",
       "    </tr>\n",
       "  </thead>\n",
       "  <tbody>\n",
       "    <tr>\n",
       "      <th>0</th>\n",
       "      <td>#bahasabali #basabali #basabaline #belajarbaha...</td>\n",
       "    </tr>\n",
       "    <tr>\n",
       "      <th>1</th>\n",
       "      <td>Sukseme , tiang melajah mebase bali</td>\n",
       "    </tr>\n",
       "    <tr>\n",
       "      <th>2</th>\n",
       "      <td>@petuah_petuah Ngiring sareng-sareng malajah 🙏</td>\n",
       "    </tr>\n",
       "    <tr>\n",
       "      <th>3</th>\n",
       "      <td>@basabali.id sawire timpal timpal dini uli  Bali🙏</td>\n",
       "    </tr>\n",
       "    <tr>\n",
       "      <th>4</th>\n",
       "      <td>Anadap &amp; alus lebih sopan mana min?</td>\n",
       "    </tr>\n",
       "    <tr>\n",
       "      <th>...</th>\n",
       "      <td>...</td>\n",
       "    </tr>\n",
       "    <tr>\n",
       "      <th>461</th>\n",
       "      <td>Buah-buahan = Woh-wohan\\n\\n#bahasabali #basaba...</td>\n",
       "    </tr>\n",
       "    <tr>\n",
       "      <th>462</th>\n",
       "      <td>Nyen ne basang bawak ?😁\\n\\n#basabali #basabali...</td>\n",
       "    </tr>\n",
       "    <tr>\n",
       "      <th>463</th>\n",
       "      <td>#basabali #bahasabali #belajarbahasabali #basa...</td>\n",
       "    </tr>\n",
       "    <tr>\n",
       "      <th>464</th>\n",
       "      <td>Anggota tubuh dalam bahasa Bali disebut Angga ...</td>\n",
       "    </tr>\n",
       "    <tr>\n",
       "      <th>465</th>\n",
       "      <td>Kata kata dalam Bahasa Bali yang memiliki arti...</td>\n",
       "    </tr>\n",
       "  </tbody>\n",
       "</table>\n",
       "<p>466 rows × 1 columns</p>\n",
       "</div>"
      ],
      "text/plain": [
       "                                                  text\n",
       "0    #bahasabali #basabali #basabaline #belajarbaha...\n",
       "1                  Sukseme , tiang melajah mebase bali\n",
       "2       @petuah_petuah Ngiring sareng-sareng malajah 🙏\n",
       "3    @basabali.id sawire timpal timpal dini uli  Bali🙏\n",
       "4                  Anadap & alus lebih sopan mana min?\n",
       "..                                                 ...\n",
       "461  Buah-buahan = Woh-wohan\\n\\n#bahasabali #basaba...\n",
       "462  Nyen ne basang bawak ?😁\\n\\n#basabali #basabali...\n",
       "463  #basabali #bahasabali #belajarbahasabali #basa...\n",
       "464  Anggota tubuh dalam bahasa Bali disebut Angga ...\n",
       "465  Kata kata dalam Bahasa Bali yang memiliki arti...\n",
       "\n",
       "[466 rows x 1 columns]"
      ]
     },
     "execution_count": 6,
     "metadata": {},
     "output_type": "execute_result"
    }
   ],
   "source": [
    "df_texts"
   ]
  },
  {
   "cell_type": "code",
   "execution_count": 7,
   "metadata": {},
   "outputs": [],
   "source": [
    "import re\n",
    "def is_dominant_balinese(text, threshold=0.5):\n",
    "    if text is None:\n",
    "        return False\n",
    "\n",
    "    words = re.findall(r'\\b\\w+\\b', text.lower()) \n",
    "    if not words:\n",
    "        return False\n",
    "    \n",
    "    balinese_count = sum(1 for word in words if word in balinese_words)\n",
    "    \n",
    "    return balinese_count / len(words) > threshold"
   ]
  },
  {
   "cell_type": "code",
   "execution_count": 8,
   "metadata": {},
   "outputs": [],
   "source": [
    "# dominant balinese\n",
    "df_filtered = df_texts[df_texts['text'].apply(is_dominant_balinese)].reset_index(drop=True)"
   ]
  },
  {
   "cell_type": "code",
   "execution_count": 9,
   "metadata": {},
   "outputs": [],
   "source": [
    "# more than 3 words\n",
    "df_filtered = df_filtered[df_filtered['text'].str.split().str.len() > 4]"
   ]
  },
  {
   "cell_type": "code",
   "execution_count": 10,
   "metadata": {},
   "outputs": [
    {
     "data": {
      "text/html": [
       "<div>\n",
       "<style scoped>\n",
       "    .dataframe tbody tr th:only-of-type {\n",
       "        vertical-align: middle;\n",
       "    }\n",
       "\n",
       "    .dataframe tbody tr th {\n",
       "        vertical-align: top;\n",
       "    }\n",
       "\n",
       "    .dataframe thead th {\n",
       "        text-align: right;\n",
       "    }\n",
       "</style>\n",
       "<table border=\"1\" class=\"dataframe\">\n",
       "  <thead>\n",
       "    <tr style=\"text-align: right;\">\n",
       "      <th></th>\n",
       "      <th>text</th>\n",
       "    </tr>\n",
       "  </thead>\n",
       "  <tbody>\n",
       "    <tr>\n",
       "      <th>0</th>\n",
       "      <td>@petuah_petuah Ngiring sareng-sareng malajah 🙏</td>\n",
       "    </tr>\n",
       "    <tr>\n",
       "      <th>1</th>\n",
       "      <td>@basabali.id sawire timpal timpal dini uli  Bali🙏</td>\n",
       "    </tr>\n",
       "    <tr>\n",
       "      <th>2</th>\n",
       "      <td>@henry_96ok2321 Andap = Endep = Biasa. Alus ya...</td>\n",
       "    </tr>\n",
       "    <tr>\n",
       "      <th>3</th>\n",
       "      <td>Bli, apakah ada les bahasa bali? Karna saya pe...</td>\n",
       "    </tr>\n",
       "    <tr>\n",
       "      <th>4</th>\n",
       "      <td>Cokor dalam bahasa Sunda malah bahasa kasar un...</td>\n",
       "    </tr>\n",
       "    <tr>\n",
       "      <th>...</th>\n",
       "      <td>...</td>\n",
       "    </tr>\n",
       "    <tr>\n",
       "      <th>85</th>\n",
       "      <td>Tentang mata angin bli nu keweh memahami kelod...</td>\n",
       "    </tr>\n",
       "    <tr>\n",
       "      <th>86</th>\n",
       "      <td>Suksma bli. Sangat membantu untuk saya yang pe...</td>\n",
       "    </tr>\n",
       "    <tr>\n",
       "      <th>87</th>\n",
       "      <td>Rahajeng Rahina Suci Pagerwesi 🙏😇</td>\n",
       "    </tr>\n",
       "    <tr>\n",
       "      <th>92</th>\n",
       "      <td>Suksma bli. Tiang demen ajak konten² basa Bali...</td>\n",
       "    </tr>\n",
       "    <tr>\n",
       "      <th>94</th>\n",
       "      <td>Basa Bali Alus ne napi min ? Tiang uning Kaler...</td>\n",
       "    </tr>\n",
       "  </tbody>\n",
       "</table>\n",
       "<p>65 rows × 1 columns</p>\n",
       "</div>"
      ],
      "text/plain": [
       "                                                 text\n",
       "0      @petuah_petuah Ngiring sareng-sareng malajah 🙏\n",
       "1   @basabali.id sawire timpal timpal dini uli  Bali🙏\n",
       "2   @henry_96ok2321 Andap = Endep = Biasa. Alus ya...\n",
       "3   Bli, apakah ada les bahasa bali? Karna saya pe...\n",
       "4   Cokor dalam bahasa Sunda malah bahasa kasar un...\n",
       "..                                                ...\n",
       "85  Tentang mata angin bli nu keweh memahami kelod...\n",
       "86  Suksma bli. Sangat membantu untuk saya yang pe...\n",
       "87                  Rahajeng Rahina Suci Pagerwesi 🙏😇\n",
       "92  Suksma bli. Tiang demen ajak konten² basa Bali...\n",
       "94  Basa Bali Alus ne napi min ? Tiang uning Kaler...\n",
       "\n",
       "[65 rows x 1 columns]"
      ]
     },
     "execution_count": 10,
     "metadata": {},
     "output_type": "execute_result"
    }
   ],
   "source": [
    "df_filtered"
   ]
  },
  {
   "cell_type": "code",
   "execution_count": 11,
   "metadata": {},
   "outputs": [],
   "source": [
    "df_filtered.to_excel(\"filtered_instagram.xlsx\", index=False)"
   ]
  }
 ],
 "metadata": {
  "kernelspec": {
   "display_name": ".venv",
   "language": "python",
   "name": "python3"
  },
  "language_info": {
   "codemirror_mode": {
    "name": "ipython",
    "version": 3
   },
   "file_extension": ".py",
   "mimetype": "text/x-python",
   "name": "python",
   "nbconvert_exporter": "python",
   "pygments_lexer": "ipython3",
   "version": "3.12.6"
  }
 },
 "nbformat": 4,
 "nbformat_minor": 2
}
